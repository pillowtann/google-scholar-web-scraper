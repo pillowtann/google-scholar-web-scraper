{
 "cells": [
  {
   "cell_type": "code",
   "execution_count": 1,
   "metadata": {},
   "outputs": [],
   "source": [
    "import xlrd\n",
    "import os\n",
    "import requests\n",
    "import pandas as pd\n",
    "from bs4 import BeautifulSoup"
   ]
  },
  {
   "cell_type": "code",
   "execution_count": 2,
   "metadata": {},
   "outputs": [],
   "source": [
    "front_url = 'https://scholar.google.com/scholar?start='\n",
    "back_url = '&hl=en&as_sdt=2005&sciodt=0,5&as_ylo=2016&cites=17089488661544618798&scipsc='\n",
    "\n",
    "def get_url_content(page_num):\n",
    "    url = ''.join(map(str, [front_url, page_num*10, back_url]))\n",
    "    print('Parsing from ', url)\n",
    "    content = requests.get(url).text\n",
    "    return content"
   ]
  },
  {
   "cell_type": "code",
   "execution_count": 3,
   "metadata": {},
   "outputs": [],
   "source": [
    "folder_num = '07'\n",
    "root_name = \"source_codes/google_scholar_search_\"\n",
    "\n",
    "def get_saved_content(page_num):\n",
    "    path = ''.join(map(str, [root_name, str(folder_num), \"/page_\", str(page_num), \".txt\"]))\n",
    "    with open(path, encoding=\"utf8\") as file:\n",
    "        content = file.read()\n",
    "        file.close()\n",
    "    return content"
   ]
  },
  {
   "cell_type": "code",
   "execution_count": 4,
   "metadata": {},
   "outputs": [],
   "source": [
    "# auto for auto extraction \n",
    "root_folder = ''.join(map(str, [root_name, str(folder_num)]))\n",
    "num_of_items = len([name for name in os.listdir(root_folder) if os.path.isfile(os.path.join(root_folder, name))])-1\n",
    "# num_of_items = 10"
   ]
  },
  {
   "cell_type": "code",
   "execution_count": 5,
   "metadata": {},
   "outputs": [],
   "source": [
    "def parse_page_info(get_content_method, page_num):\n",
    "    \n",
    "    content = get_content_method(page_num)\n",
    "    page = BeautifulSoup(content, 'lxml')\n",
    "\n",
    "    title_list = []\n",
    "    url_list = []\n",
    "    source_list = []\n",
    "    citation_list = []\n",
    "\n",
    "    for entry in page.find_all(\"h3\", attrs={\"class\": \"gs_rt\"}):\n",
    "        title_list.append(entry.a.text)\n",
    "        url_list.append(entry.a['href'])\n",
    "\n",
    "    for entry in page.find_all(attrs={\"class\": \"gs_a\"}):\n",
    "        source_list.append(entry.text)\n",
    "\n",
    "    for entry in page.find_all(attrs={\"class\": \"gs_fl\"}):\n",
    "        if '[' not in entry.text:\n",
    "            citation_list.append(entry.text)\n",
    "\n",
    "    page_df = pd.DataFrame(\n",
    "        {'title': title_list,\n",
    "         'author-source': source_list,\n",
    "         'url_link': url_list,\n",
    "         'cited_by': citation_list\n",
    "        })\n",
    "    \n",
    "    return page_df"
   ]
  },
  {
   "cell_type": "code",
   "execution_count": 6,
   "metadata": {},
   "outputs": [
    {
     "name": "stdout",
     "output_type": "stream",
     "text": [
      "Parsing page 0...\n",
      "Parsing page 1...\n"
     ]
    },
    {
     "ename": "AttributeError",
     "evalue": "'NoneType' object has no attribute 'text'",
     "output_type": "error",
     "traceback": [
      "\u001b[1;31m---------------------------------------------------------------------------\u001b[0m",
      "\u001b[1;31mAttributeError\u001b[0m                            Traceback (most recent call last)",
      "\u001b[1;32m<ipython-input-6-493a6ef632ae>\u001b[0m in \u001b[0;36m<module>\u001b[1;34m\u001b[0m\n\u001b[0;32m      3\u001b[0m \u001b[1;32mfor\u001b[0m \u001b[0mi\u001b[0m \u001b[1;32min\u001b[0m \u001b[0mrange\u001b[0m\u001b[1;33m(\u001b[0m\u001b[1;36m0\u001b[0m\u001b[1;33m,\u001b[0m\u001b[0mnum_of_items\u001b[0m\u001b[1;33m)\u001b[0m\u001b[1;33m:\u001b[0m\u001b[1;33m\u001b[0m\u001b[1;33m\u001b[0m\u001b[0m\n\u001b[0;32m      4\u001b[0m     \u001b[0mprint\u001b[0m\u001b[1;33m(\u001b[0m\u001b[1;34m'Parsing page '\u001b[0m\u001b[1;33m+\u001b[0m\u001b[0mstr\u001b[0m\u001b[1;33m(\u001b[0m\u001b[0mi\u001b[0m\u001b[1;33m)\u001b[0m\u001b[1;33m+\u001b[0m\u001b[1;34m'...'\u001b[0m\u001b[1;33m)\u001b[0m\u001b[1;33m\u001b[0m\u001b[1;33m\u001b[0m\u001b[0m\n\u001b[1;32m----> 5\u001b[1;33m     \u001b[0mpage_df\u001b[0m \u001b[1;33m=\u001b[0m \u001b[0mparse_page_info\u001b[0m\u001b[1;33m(\u001b[0m\u001b[0mget_saved_content\u001b[0m\u001b[1;33m,\u001b[0m \u001b[0mpage_num\u001b[0m\u001b[1;33m=\u001b[0m\u001b[0mi\u001b[0m\u001b[1;33m)\u001b[0m\u001b[1;33m\u001b[0m\u001b[1;33m\u001b[0m\u001b[0m\n\u001b[0m\u001b[0;32m      6\u001b[0m     \u001b[0mpage_df\u001b[0m\u001b[1;33m[\u001b[0m\u001b[1;34m'page_num'\u001b[0m\u001b[1;33m]\u001b[0m \u001b[1;33m=\u001b[0m \u001b[0mi\u001b[0m\u001b[1;33m\u001b[0m\u001b[1;33m\u001b[0m\u001b[0m\n\u001b[0;32m      7\u001b[0m     \u001b[0msummary_df\u001b[0m \u001b[1;33m=\u001b[0m \u001b[0msummary_df\u001b[0m\u001b[1;33m.\u001b[0m\u001b[0mappend\u001b[0m\u001b[1;33m(\u001b[0m\u001b[0mpage_df\u001b[0m\u001b[1;33m)\u001b[0m\u001b[1;33m\u001b[0m\u001b[1;33m\u001b[0m\u001b[0m\n",
      "\u001b[1;32m<ipython-input-5-41357bfc387d>\u001b[0m in \u001b[0;36mparse_page_info\u001b[1;34m(get_content_method, page_num)\u001b[0m\n\u001b[0;32m     10\u001b[0m \u001b[1;33m\u001b[0m\u001b[0m\n\u001b[0;32m     11\u001b[0m     \u001b[1;32mfor\u001b[0m \u001b[0mentry\u001b[0m \u001b[1;32min\u001b[0m \u001b[0mpage\u001b[0m\u001b[1;33m.\u001b[0m\u001b[0mfind_all\u001b[0m\u001b[1;33m(\u001b[0m\u001b[1;34m\"h3\"\u001b[0m\u001b[1;33m,\u001b[0m \u001b[0mattrs\u001b[0m\u001b[1;33m=\u001b[0m\u001b[1;33m{\u001b[0m\u001b[1;34m\"class\"\u001b[0m\u001b[1;33m:\u001b[0m \u001b[1;34m\"gs_rt\"\u001b[0m\u001b[1;33m}\u001b[0m\u001b[1;33m)\u001b[0m\u001b[1;33m:\u001b[0m\u001b[1;33m\u001b[0m\u001b[1;33m\u001b[0m\u001b[0m\n\u001b[1;32m---> 12\u001b[1;33m         \u001b[0mtitle_list\u001b[0m\u001b[1;33m.\u001b[0m\u001b[0mappend\u001b[0m\u001b[1;33m(\u001b[0m\u001b[0mentry\u001b[0m\u001b[1;33m.\u001b[0m\u001b[0ma\u001b[0m\u001b[1;33m.\u001b[0m\u001b[0mtext\u001b[0m\u001b[1;33m)\u001b[0m\u001b[1;33m\u001b[0m\u001b[1;33m\u001b[0m\u001b[0m\n\u001b[0m\u001b[0;32m     13\u001b[0m         \u001b[0murl_list\u001b[0m\u001b[1;33m.\u001b[0m\u001b[0mappend\u001b[0m\u001b[1;33m(\u001b[0m\u001b[0mentry\u001b[0m\u001b[1;33m.\u001b[0m\u001b[0ma\u001b[0m\u001b[1;33m[\u001b[0m\u001b[1;34m'href'\u001b[0m\u001b[1;33m]\u001b[0m\u001b[1;33m)\u001b[0m\u001b[1;33m\u001b[0m\u001b[1;33m\u001b[0m\u001b[0m\n\u001b[0;32m     14\u001b[0m \u001b[1;33m\u001b[0m\u001b[0m\n",
      "\u001b[1;31mAttributeError\u001b[0m: 'NoneType' object has no attribute 'text'"
     ]
    }
   ],
   "source": [
    "summary_df = pd.DataFrame()\n",
    "\n",
    "for i in range(0,num_of_items):\n",
    "    print('Parsing page '+str(i)+'...')\n",
    "    page_df = parse_page_info(get_saved_content, page_num=i)\n",
    "    page_df['page_num'] = i\n",
    "    summary_df = summary_df.append(page_df)\n",
    "    summary_df['search_round'] = str(folder_num)\n",
    "    \n",
    "summary_df"
   ]
  },
  {
   "cell_type": "code",
   "execution_count": 7,
   "metadata": {},
   "outputs": [
    {
     "data": {
      "text/plain": [
       "<function __main__.get_saved_content(page_num)>"
      ]
     },
     "execution_count": 7,
     "metadata": {},
     "output_type": "execute_result"
    }
   ],
   "source": [
    "get_saved_content"
   ]
  },
  {
   "cell_type": "code",
   "execution_count": 7,
   "metadata": {},
   "outputs": [],
   "source": [
    "summary_df.to_csv('output/google_scholar_search_'+str(folder_num)+'.csv', index=False)"
   ]
  },
  {
   "cell_type": "code",
   "execution_count": 8,
   "metadata": {},
   "outputs": [],
   "source": [
    "# append only new rows\n",
    "alltime_df = pd.read_csv('output/google_scholar_search_all.csv')\n",
    "alltime_df = pd.concat([alltime_df, summary_df])\n",
    "alltime_df = alltime_df.drop_duplicates(subset=['title', 'author-source'], keep='first')\n",
    "alltime_df.to_csv('output/google_scholar_search_all.csv', index=False)"
   ]
  },
  {
   "cell_type": "markdown",
   "metadata": {},
   "source": [
    "#### Archive Workings"
   ]
  },
  {
   "cell_type": "code",
   "execution_count": null,
   "metadata": {},
   "outputs": [],
   "source": [
    "page_num=5\n",
    "content = get_saved_content(page_num)\n",
    "page = BeautifulSoup(content, 'lxml')\n",
    "\n",
    "title_list = []\n",
    "url_list = []\n",
    "source_list = []\n",
    "citation_list = []\n",
    "\n",
    "for entry in page.find_all(attrs={\"class\": \"gs_fl\"}):\n",
    "    print(entry.text)\n",
    "    if '[' not in entry.text:\n",
    "        citation_list.append(entry.text)\n",
    "\n",
    "print(len(title_list))\n",
    "print(len(url_list))\n",
    "print(len(source_list))\n",
    "print(len(citation_list))"
   ]
  },
  {
   "cell_type": "code",
   "execution_count": null,
   "metadata": {},
   "outputs": [],
   "source": [
    "citation_list"
   ]
  },
  {
   "cell_type": "code",
   "execution_count": null,
   "metadata": {},
   "outputs": [],
   "source": [
    "page_df"
   ]
  },
  {
   "cell_type": "code",
   "execution_count": null,
   "metadata": {},
   "outputs": [],
   "source": [
    "content"
   ]
  },
  {
   "cell_type": "code",
   "execution_count": null,
   "metadata": {},
   "outputs": [],
   "source": []
  }
 ],
 "metadata": {
  "kernelspec": {
   "display_name": "Python 3",
   "language": "python",
   "name": "python3"
  },
  "language_info": {
   "codemirror_mode": {
    "name": "ipython",
    "version": 3
   },
   "file_extension": ".py",
   "mimetype": "text/x-python",
   "name": "python",
   "nbconvert_exporter": "python",
   "pygments_lexer": "ipython3",
   "version": "3.7.7"
  }
 },
 "nbformat": 4,
 "nbformat_minor": 4
}
